{
  "nbformat": 4,
  "nbformat_minor": 0,
  "metadata": {
    "colab": {
      "provenance": [],
      "authorship_tag": "ABX9TyPcH+mkViulKGqfwbvvrZqx",
      "include_colab_link": true
    },
    "kernelspec": {
      "name": "python3",
      "display_name": "Python 3"
    },
    "language_info": {
      "name": "python"
    }
  },
  "cells": [
    {
      "cell_type": "markdown",
      "metadata": {
        "id": "view-in-github",
        "colab_type": "text"
      },
      "source": [
        "<a href=\"https://colab.research.google.com/github/asghar9999999999/Mad-Libs-Python-Project/blob/main/Password_Generator_in_Python_Project.ipynb\" target=\"_parent\"><img src=\"https://colab.research.google.com/assets/colab-badge.svg\" alt=\"Open In Colab\"/></a>"
      ]
    },
    {
      "cell_type": "markdown",
      "source": [
        "# Password Generator in Python Project By **Ali Asghar**"
      ],
      "metadata": {
        "id": "4vtRzjK25ZZH"
      }
    },
    {
      "cell_type": "code",
      "source": [
        "# Password Generator in Python\n",
        "import random\n",
        "import string\n",
        "\n",
        "def generate_password():\n",
        "    print(\"Welcome to the Password Generator!\\n\")\n",
        "\n",
        "    try:\n",
        "        # Get the desired length of the password from the user\n",
        "        length = int(input(\"Enter the desired password length (minimum 6): \"))\n",
        "        if length < 6:\n",
        "            print(\"Password length must be at least 6 characters.\")\n",
        "            return\n",
        "    except ValueError:\n",
        "        print(\"Invalid input! Please enter a valid number.\")\n",
        "        return\n",
        "\n",
        "    # Character pools for the password\n",
        "    lower_case = string.ascii_lowercase\n",
        "    upper_case = string.ascii_uppercase\n",
        "    digits = string.digits\n",
        "    special_chars = string.punctuation\n",
        "\n",
        "    # Ensure the password contains at least one character from each category\n",
        "    all_chars = lower_case + upper_case + digits + special_chars\n",
        "    password = [\n",
        "        random.choice(lower_case),\n",
        "        random.choice(upper_case),\n",
        "        random.choice(digits),\n",
        "        random.choice(special_chars)\n",
        "    ]\n",
        "\n",
        "    # Fill the rest of the password length with random choices from all characters\n",
        "    password += random.choices(all_chars, k=length - 4)\n",
        "\n",
        "    # Shuffle the password to make it random\n",
        "    random.shuffle(password)\n",
        "\n",
        "    # Join the list to form the final password\n",
        "    final_password = ''.join(password)\n",
        "\n",
        "    print(f\"\\nYour generated password is: {final_password}\\n\")\n",
        "\n",
        "# Run the password generator\n",
        "if __name__ == \"__main__\":\n",
        "    generate_password()\n"
      ],
      "metadata": {
        "colab": {
          "base_uri": "https://localhost:8080/"
        },
        "id": "Sy_AdeHo5fDu",
        "outputId": "06d2ff83-e640-4ef5-d951-5208556a7f6d"
      },
      "execution_count": 6,
      "outputs": [
        {
          "output_type": "stream",
          "name": "stdout",
          "text": [
            "Welcome to the Password Generator!\n",
            "\n",
            "Enter the desired password length (minimum 6): 8\n",
            "\n",
            "Your generated password is: 5r:%Zouj\n",
            "\n"
          ]
        }
      ]
    }
  ]
}