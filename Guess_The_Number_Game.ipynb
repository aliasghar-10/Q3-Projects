{
  "nbformat": 4,
  "nbformat_minor": 0,
  "metadata": {
    "colab": {
      "provenance": [],
      "authorship_tag": "ABX9TyONFXXkRxLFRdfgLFFsTYzb",
      "include_colab_link": true
    },
    "kernelspec": {
      "name": "python3",
      "display_name": "Python 3"
    },
    "language_info": {
      "name": "python"
    }
  },
  "cells": [
    {
      "cell_type": "markdown",
      "metadata": {
        "id": "view-in-github",
        "colab_type": "text"
      },
      "source": [
        "<a href=\"https://colab.research.google.com/github/asghar9999999999/Mad-Libs-Python-Project/blob/main/Guess_The_Number_Game.ipynb\" target=\"_parent\"><img src=\"https://colab.research.google.com/assets/colab-badge.svg\" alt=\"Open In Colab\"/></a>"
      ]
    },
    {
      "cell_type": "markdown",
      "source": [
        "# Guess the Number Game in Python By **Ali Asghar**"
      ],
      "metadata": {
        "id": "kANzhSRap-Zf"
      }
    },
    {
      "cell_type": "code",
      "source": [
        "# Guess the Number Game in Python\n",
        "import random\n",
        "\n",
        "def guess_the_number():\n",
        "    print(\"Welcome to the Guess the Number Game!\\n\")\n",
        "    print(\"The computer will pick a random number between 1 and 100. Can you guess it?\\n\")\n",
        "\n",
        "    # Generate a random number between 1 and 100\n",
        "    number_to_guess = random.randint(1, 100)\n",
        "    attempts = 0\n",
        "\n",
        "    while True:\n",
        "        try:\n",
        "            # Get the user's guess\n",
        "            user_guess = int(input(\"Enter your guess (between 1 and 100): \"))\n",
        "            attempts += 1\n",
        "\n",
        "            if user_guess < 1 or user_guess > 100:\n",
        "                print(\"Please enter a number within the range of 1 to 100.\")\n",
        "            elif user_guess < number_to_guess:\n",
        "                print(\"Too low! Try again.\")\n",
        "            elif user_guess > number_to_guess:\n",
        "                print(\"Too high! Try again.\")\n",
        "            else:\n",
        "                print(f\"Congratulations! You guessed the number {number_to_guess} correctly in {attempts} attempts.\")\n",
        "                break\n",
        "        except ValueError:\n",
        "            print(\"Invalid input! Please enter a valid number.\")\n",
        "\n",
        "# Run the game\n",
        "if __name__ == \"__main__\":\n",
        "    guess_the_number()\n"
      ],
      "metadata": {
        "colab": {
          "base_uri": "https://localhost:8080/"
        },
        "id": "ObxBQk5aqQ1T",
        "outputId": "575d89d0-ccb3-42bc-bfa3-b76e5eb2862a"
      },
      "execution_count": null,
      "outputs": [
        {
          "output_type": "stream",
          "name": "stdout",
          "text": [
            "Welcome to the Guess the Number Game!\n",
            "\n",
            "The computer will pick a random number between 1 and 100. Can you guess it?\n",
            "\n",
            "Enter your guess (between 1 and 100): 56\n",
            "Too low! Try again.\n",
            "Enter your guess (between 1 and 100): 99\n",
            "Too high! Try again.\n"
          ]
        }
      ]
    }
  ]
}