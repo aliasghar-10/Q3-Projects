{
  "nbformat": 4,
  "nbformat_minor": 0,
  "metadata": {
    "colab": {
      "provenance": [],
      "authorship_tag": "ABX9TyPOiqCa0/Kx6cBQvGyKCRu/",
      "include_colab_link": true
    },
    "kernelspec": {
      "name": "python3",
      "display_name": "Python 3"
    },
    "language_info": {
      "name": "python"
    }
  },
  "cells": [
    {
      "cell_type": "markdown",
      "metadata": {
        "id": "view-in-github",
        "colab_type": "text"
      },
      "source": [
        "<a href=\"https://colab.research.google.com/github/asghar9999999999/Mad-Libs-Python-Project/blob/main/Hangman_Game_in_Python_Project.ipynb\" target=\"_parent\"><img src=\"https://colab.research.google.com/assets/colab-badge.svg\" alt=\"Open In Colab\"/></a>"
      ]
    },
    {
      "cell_type": "markdown",
      "source": [
        "# Hangman Game in Python Project By **Ali Asghar**"
      ],
      "metadata": {
        "id": "0bHm3zTbxydC"
      }
    },
    {
      "cell_type": "code",
      "source": [
        "# Hangman Game in Python\n",
        "import random\n",
        "\n",
        "def hangman():\n",
        "    print(\"Welcome to the Hangman Game!\\n\")\n",
        "\n",
        "    # List of words for the game\n",
        "    word_list = [\"python\", \"hangman\", \"developer\", \"programming\", \"computer\", \"algorithm\", \"function\"]\n",
        "    chosen_word = random.choice(word_list)\n",
        "    guessed_word = [\"_\" for _ in chosen_word]\n",
        "    attempts = 6\n",
        "    guessed_letters = []\n",
        "\n",
        "    print(\"Let's start! You have 6 attempts to guess the word.\")\n",
        "\n",
        "    while attempts > 0:\n",
        "        print(\"\\nWord: \" + \" \".join(guessed_word))\n",
        "        print(f\"Attempts remaining: {attempts}\")\n",
        "        print(f\"Guessed letters: {', '.join(guessed_letters)}\")\n",
        "\n",
        "        # Get user's guess\n",
        "        guess = input(\"Guess a letter: \").lower()\n",
        "\n",
        "        if len(guess) != 1 or not guess.isalpha():\n",
        "            print(\"Invalid input! Please enter a single letter.\")\n",
        "            continue\n",
        "\n",
        "        if guess in guessed_letters:\n",
        "            print(\"You already guessed that letter! Try a different one.\")\n",
        "            continue\n",
        "\n",
        "        guessed_letters.append(guess)\n",
        "\n",
        "        if guess in chosen_word:\n",
        "            print(f\"Good job! {guess} is in the word.\")\n",
        "            for i, letter in enumerate(chosen_word):\n",
        "                if letter == guess:\n",
        "                    guessed_word[i] = guess\n",
        "        else:\n",
        "            print(f\"Oops! {guess} is not in the word.\")\n",
        "            attempts -= 1\n",
        "\n",
        "        if \"_\" not in guessed_word:\n",
        "            print(\"\\nCongratulations! You guessed the word: \" + chosen_word)\n",
        "            break\n",
        "\n",
        "    if \"_\" in guessed_word:\n",
        "        print(\"\\nSorry, you've run out of attempts. The word was: \" + chosen_word)\n",
        "\n",
        "# Run the game\n",
        "if __name__ == \"__main__\":\n",
        "    hangman()\n"
      ],
      "metadata": {
        "colab": {
          "base_uri": "https://localhost:8080/"
        },
        "id": "7sztzsEZx_Iu",
        "outputId": "14ea3993-e779-44de-ca13-22d75daf43fa"
      },
      "execution_count": null,
      "outputs": [
        {
          "output_type": "stream",
          "name": "stdout",
          "text": [
            "Welcome to the Hangman Game!\n",
            "\n",
            "Let's start! You have 6 attempts to guess the word.\n",
            "\n",
            "Word: _ _ _ _ _ _ _ _\n",
            "Attempts remaining: 6\n",
            "Guessed letters: \n",
            "Guess a letter: 1\n",
            "Invalid input! Please enter a single letter.\n",
            "\n",
            "Word: _ _ _ _ _ _ _ _\n",
            "Attempts remaining: 6\n",
            "Guessed letters: \n",
            "Guess a letter: cannot\n",
            "Invalid input! Please enter a single letter.\n",
            "\n",
            "Word: _ _ _ _ _ _ _ _\n",
            "Attempts remaining: 6\n",
            "Guessed letters: \n",
            "Guess a letter: better\n",
            "Invalid input! Please enter a single letter.\n",
            "\n",
            "Word: _ _ _ _ _ _ _ _\n",
            "Attempts remaining: 6\n",
            "Guessed letters: \n",
            "Guess a letter: asghar\n",
            "Invalid input! Please enter a single letter.\n",
            "\n",
            "Word: _ _ _ _ _ _ _ _\n",
            "Attempts remaining: 6\n",
            "Guessed letters: \n",
            "Guess a letter: minhal\n",
            "Invalid input! Please enter a single letter.\n",
            "\n",
            "Word: _ _ _ _ _ _ _ _\n",
            "Attempts remaining: 6\n",
            "Guessed letters: \n",
            "Guess a letter: wonder\n",
            "Invalid input! Please enter a single letter.\n",
            "\n",
            "Word: _ _ _ _ _ _ _ _\n",
            "Attempts remaining: 6\n",
            "Guessed letters: \n",
            "Guess a letter: paypal\n",
            "Invalid input! Please enter a single letter.\n",
            "\n",
            "Word: _ _ _ _ _ _ _ _\n",
            "Attempts remaining: 6\n",
            "Guessed letters: \n"
          ]
        }
      ]
    }
  ]
}