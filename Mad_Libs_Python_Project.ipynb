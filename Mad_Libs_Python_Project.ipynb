{
  "nbformat": 4,
  "nbformat_minor": 0,
  "metadata": {
    "colab": {
      "provenance": [],
      "authorship_tag": "ABX9TyOneJwnRVwegEND0XoQR93R",
      "include_colab_link": true
    },
    "kernelspec": {
      "name": "python3",
      "display_name": "Python 3"
    },
    "language_info": {
      "name": "python"
    }
  },
  "cells": [
    {
      "cell_type": "markdown",
      "metadata": {
        "id": "view-in-github",
        "colab_type": "text"
      },
      "source": [
        "<a href=\"https://colab.research.google.com/github/asghar9999999999/Mad-Libs-Python-Project/blob/main/Mad_Libs_Python_Project.ipynb\" target=\"_parent\"><img src=\"https://colab.research.google.com/assets/colab-badge.svg\" alt=\"Open In Colab\"/></a>"
      ]
    },
    {
      "cell_type": "markdown",
      "source": [
        "# Mad Libs Python Project By **Ali Asghar**"
      ],
      "metadata": {
        "id": "haL67WwylMow"
      }
    },
    {
      "cell_type": "code",
      "source": [
        "# Mad Libs Game in Python\n",
        "\n",
        "def mad_libs():\n",
        "    print(\"Welcome to the Mad Libs Game: My Journey!\\n\")\n",
        "\n",
        "    # Collect words from the user\n",
        "    name = input(\"Enter your name: \")\n",
        "    institute = input(\"Enter your institute name: \")\n",
        "    starting_year = input(\"Enter the year you started your journey: \")\n",
        "    field_of_study = input(\"Enter your field of study: \")\n",
        "    goal = input(\"Enter your ultimate goal: \")\n",
        "    memorable_moment = input(\"Enter a memorable moment in your journey: \")\n",
        "    favorite_programing_language = input(\"Enter your favorite programing language: \")\n",
        "    inspiration = input(\"Who or what inspires you the most?: \")\n",
        "\n",
        "    # Story template\n",
        "    story = (\n",
        "        f\"My name is {name}, and I am a proud student of {institute}. My journey began in {starting_year} when I decided to pursue \"\n",
        "        f\"{field_of_study}. From the very first day, I was determined to achieve my ultimate goal of {goal}.\\n\\n\"\n",
        "        f\"One of the most memorable moments during this journey was {memorable_moment}. It made me realize how much I enjoy learning, \"\n",
        "        f\"especially about {favorite_subject}. Through all the ups and downs, I have been consistently inspired by {inspiration}, \"\n",
        "        f\"which keeps me motivated to push forward.\\n\\n\"\n",
        "        f\"Looking back, I am grateful for every experience and lesson I have gained, and I look forward to achieving even greater \"\n",
        "        f\"milestones in the future.\"\n",
        "    )\n",
        "\n",
        "    print(\"\\nHere is your Mad Libs story:\\n\")\n",
        "    print(story)\n",
        "\n",
        "# Run the game\n",
        "if __name__ == \"__main__\":\n",
        "    mad_libs()\n"
      ],
      "metadata": {
        "colab": {
          "base_uri": "https://localhost:8080/"
        },
        "id": "h3fqP2x1l60i",
        "outputId": "6499ddf3-c18d-4b70-a948-25c9d66e802d"
      },
      "execution_count": 1,
      "outputs": [
        {
          "output_type": "stream",
          "name": "stdout",
          "text": [
            "Welcome to the Mad Libs Game: My Journey!\n",
            "\n",
            "Enter your name: Ali\n",
            "Enter your institute name: GIAIC\n",
            "Enter the year you started your journey: 2024\n",
            "Enter your field of study: Backend\n",
            "Enter your ultimate goal: Ai Developer\n",
            "Enter a memorable moment in your journey: When I successfully completed my first project Mad Libs Project\n",
            "Enter your favorite subject: Python\n",
            "Who or what inspires you the most?: My own passion and desire to achieve my goals.\n",
            "\n",
            "Here is your Mad Libs story:\n",
            "\n",
            "My name is Ali, and I am a proud student of GIAIC. My journey began in 2024 when I decided to pursue Backend. From the very first day, I was determined to achieve my ultimate goal of Ai Developer.\n",
            "\n",
            "One of the most memorable moments during this journey was When I successfully completed my first project Mad Libs Project. It made me realize how much I enjoy learning, especially about Python. Through all the ups and downs, I have been consistently inspired by My own passion and desire to achieve my goals., which keeps me motivated to push forward.\n",
            "\n",
            "Looking back, I am grateful for every experience and lesson I have gained, and I look forward to achieving even greater milestones in the future.\n"
          ]
        }
      ]
    }
  ]
}