{
  "nbformat": 4,
  "nbformat_minor": 0,
  "metadata": {
    "colab": {
      "provenance": [],
      "authorship_tag": "ABX9TyOGJcH0ebq4C7oB4FSUy1yp",
      "include_colab_link": true
    },
    "kernelspec": {
      "name": "python3",
      "display_name": "Python 3"
    },
    "language_info": {
      "name": "python"
    }
  },
  "cells": [
    {
      "cell_type": "markdown",
      "metadata": {
        "id": "view-in-github",
        "colab_type": "text"
      },
      "source": [
        "<a href=\"https://colab.research.google.com/github/asghar9999999999/Mad-Libs-Python-Project/blob/main/Rock_Paper_Scissors_Python_Project.ipynb\" target=\"_parent\"><img src=\"https://colab.research.google.com/assets/colab-badge.svg\" alt=\"Open In Colab\"/></a>"
      ]
    },
    {
      "cell_type": "markdown",
      "source": [
        "# Rock, Paper, Scissors Game in Python By **Ali Asghar**"
      ],
      "metadata": {
        "id": "GDRP56psvmU6"
      }
    },
    {
      "cell_type": "code",
      "source": [
        "# Rock, Paper, Scissors Game in Python\n",
        "import random\n",
        "\n",
        "def rock_paper_scissors():\n",
        "    print(\"Welcome to the Rock, Paper, Scissors Game!\\n\")\n",
        "    print(\"Rules: Rock beats Scissors, Scissors beat Paper, and Paper beats Rock.\\n\")\n",
        "\n",
        "    choices = [\"rock\", \"paper\", \"scissors\"]\n",
        "\n",
        "    while True:\n",
        "        # User choice\n",
        "        user_choice = input(\"Enter your choice (rock, paper, scissors or 'quit' to exit): \").lower()\n",
        "        if user_choice == \"quit\":\n",
        "            print(\"Thanks for playing! Goodbye!\")\n",
        "            break\n",
        "        if user_choice not in choices:\n",
        "            print(\"Invalid choice. Please choose rock, paper, or scissors.\")\n",
        "            continue\n",
        "\n",
        "        # Computer choice\n",
        "        computer_choice = random.choice(choices)\n",
        "        print(f\"Computer chose: {computer_choice}\")\n",
        "\n",
        "        # Determine the winner\n",
        "        if user_choice == computer_choice:\n",
        "            print(\"It's a tie!\")\n",
        "        elif (\n",
        "            (user_choice == \"rock\" and computer_choice == \"scissors\") or\n",
        "            (user_choice == \"scissors\" and computer_choice == \"paper\") or\n",
        "            (user_choice == \"paper\" and computer_choice == \"rock\")\n",
        "        ):\n",
        "            print(\"You win!\")\n",
        "        else:\n",
        "            print(\"You lose!\")\n",
        "\n",
        "        print(\"\\nLet's play again!\\n\")\n",
        "\n",
        "# Run the game\n",
        "if __name__ == \"__main__\":\n",
        "    rock_paper_scissors()\n"
      ],
      "metadata": {
        "colab": {
          "base_uri": "https://localhost:8080/"
        },
        "id": "hVyUSf8WvrvX",
        "outputId": "115707ee-d03a-4a88-abfd-fd7c8b76fecf"
      },
      "execution_count": null,
      "outputs": [
        {
          "output_type": "stream",
          "name": "stdout",
          "text": [
            "Welcome to the Rock, Paper, Scissors Game!\n",
            "\n",
            "Rules: Rock beats Scissors, Scissors beat Paper, and Paper beats Rock.\n",
            "\n",
            "Enter your choice (rock, paper, scissors or 'quit' to exit): paper\n",
            "Computer chose: scissors\n",
            "You lose!\n",
            "\n",
            "Let's play again!\n",
            "\n",
            "Enter your choice (rock, paper, scissors or 'quit' to exit): rock\n",
            "Computer chose: scissors\n",
            "You win!\n",
            "\n",
            "Let's play again!\n",
            "\n"
          ]
        }
      ]
    }
  ]
}