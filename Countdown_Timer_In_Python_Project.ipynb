{
  "nbformat": 4,
  "nbformat_minor": 0,
  "metadata": {
    "colab": {
      "provenance": [],
      "authorship_tag": "ABX9TyMxfAmn5vl+h5LtqeiJ6iKK",
      "include_colab_link": true
    },
    "kernelspec": {
      "name": "python3",
      "display_name": "Python 3"
    },
    "language_info": {
      "name": "python"
    }
  },
  "cells": [
    {
      "cell_type": "markdown",
      "metadata": {
        "id": "view-in-github",
        "colab_type": "text"
      },
      "source": [
        "<a href=\"https://colab.research.google.com/github/asghar9999999999/Mad-Libs-Python-Project/blob/main/Countdown_Timer_In_Python_Project.ipynb\" target=\"_parent\"><img src=\"https://colab.research.google.com/assets/colab-badge.svg\" alt=\"Open In Colab\"/></a>"
      ]
    },
    {
      "cell_type": "markdown",
      "source": [
        "# Countdown Timer In Python Project By **Ali Asghar**"
      ],
      "metadata": {
        "id": "het27L1s3xTz"
      }
    },
    {
      "cell_type": "code",
      "source": [
        "# Countdown Timer in Python\n",
        "import time\n",
        "\n",
        "def countdown_timer():\n",
        "    print(\"Welcome to the Countdown Timer!\\n\")\n",
        "\n",
        "    # Get user input for the countdown duration\n",
        "    try:\n",
        "        total_seconds = int(input(\"Enter the countdown time in seconds: \"))\n",
        "        if total_seconds <= 0:\n",
        "            print(\"Please enter a positive number.\")\n",
        "            return\n",
        "    except ValueError:\n",
        "        print(\"Invalid input! Please enter a valid number.\")\n",
        "        return\n",
        "\n",
        "    print(\"\\nStarting the countdown...\\n\")\n",
        "\n",
        "    while total_seconds > 0:\n",
        "        minutes, seconds = divmod(total_seconds, 60)\n",
        "        timer_display = f\"{minutes:02d}:{seconds:02d}\"\n",
        "        print(timer_display, end=\"\\r\")\n",
        "        time.sleep(1)\n",
        "        total_seconds -= 1\n",
        "\n",
        "    print(\"00:00\")\n",
        "    print(\"Time's up! 🚀\")\n",
        "\n",
        "# Run the timer\n",
        "if __name__ == \"__main__\":\n",
        "    countdown_timer()"
      ],
      "metadata": {
        "colab": {
          "base_uri": "https://localhost:8080/"
        },
        "id": "YNTziE5W37kX",
        "outputId": "156d0538-0fb7-491c-a394-2884c4aa8717"
      },
      "execution_count": 1,
      "outputs": [
        {
          "output_type": "stream",
          "name": "stdout",
          "text": [
            "Welcome to the Countdown Timer!\n",
            "\n",
            "Enter the countdown time in seconds: 10\n",
            "\n",
            "Starting the countdown...\n",
            "\n",
            "00:00\n",
            "Time's up! 🚀\n"
          ]
        }
      ]
    }
  ]
}